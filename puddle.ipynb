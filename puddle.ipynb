{
 "cells": [
  {
   "cell_type": "code",
   "execution_count": 1,
   "metadata": {},
   "outputs": [],
   "source": [
    "import numpy as np\n",
    "import cv2\n",
    "import glob"
   ]
  },
  {
   "cell_type": "code",
   "execution_count": 2,
   "metadata": {},
   "outputs": [],
   "source": [
    "dataset_dir = \"/home/petrus/Downloads/SpillData/Stagnant water and Wet surface Dataset\"\n",
    "images = glob.glob(dataset_dir+'/*.jpeg')"
   ]
  },
  {
   "cell_type": "code",
   "execution_count": 16,
   "metadata": {},
   "outputs": [],
   "source": [
    "for ix,img_path in enumerate(images):\n",
    "    img = cv2.imread(img_path)\n",
    "    img_h,img_w,_ = img.shape\n",
    "    with open(img_path[:-5]+'.txt','r') as fp:\n",
    "        annots = fp.read().splitlines()\n",
    "    \n",
    "    puddles = []\n",
    "    wet_surface = []\n",
    "    for annot in annots:\n",
    "        cat,xs,ys,ws,hs = annot.split(' ')\n",
    "        x = int(float(xs)*img_w)\n",
    "        y = int(float(ys)*img_h)\n",
    "        w = int(float(ws)*img_w)\n",
    "        h = int(float(hs)*img_w)\n",
    "        #if cat == '0':\n",
    "        #    cv2.rectangle(img, (x-w//2, y-h//2), (x+w//2, y+h//2), (0,255,0), 2)\n",
    "        #elif cat == '1':\n",
    "        #    cv2.rectangle(img, (x-w//2, y-h//2), (x+w//2, y+h//2), (255,0,0), 2)\n",
    "        \n",
    "        if cat == '0':\n",
    "            puddles.append(np.array([x-w//2, y-h//2, x+w//2, y+h//2]))\n",
    "        \n",
    "        wet_surface.append(np.array([x-w//2, y-h//2, x+w//2, y+h//2]))\n",
    "    \n",
    "    if len(wet_surface) == 0:\n",
    "        continue\n",
    "        \n",
    "    wet_surface = np.stack(wet_surface)\n",
    "    p_mins = wet_surface.min(axis=0)\n",
    "    p_maxs = wet_surface.max(axis=0)\n",
    "    if p_mins[0] > 70:\n",
    "        neg_crop = img[:,:p_mins[0]-20]\n",
    "        cv2.imwrite(\"/home/petrus/Downloads/SpillData/puddle_crops/Not_Puddle/{}xl.jpeg\".format(ix),neg_crop)\n",
    "    if p_mins[1] > 70:\n",
    "        neg_crop = img[:p_mins[1]-20,:]\n",
    "        cv2.imwrite(\"/home/petrus/Downloads/SpillData/puddle_crops/Not_Puddle/{}yl.jpeg\".format(ix),neg_crop)\n",
    "    if img_w-p_maxs[2] > 70:\n",
    "        neg_crop = img[:,p_maxs[2]+20:]\n",
    "        cv2.imwrite(\"/home/petrus/Downloads/SpillData/puddle_crops/Not_Puddle/{}xg.jpeg\".format(ix),neg_crop)\n",
    "    if img_h-p_maxs[3] > 70:\n",
    "        neg_crop = img[p_maxs[3]+20:,:]\n",
    "        cv2.imwrite(\"/home/petrus/Downloads/SpillData/puddle_crops/Not_Puddle/{}yg.jpeg\".format(ix),neg_crop)\n",
    "    \n",
    "    if len(puddles) == 0:\n",
    "        continue\n",
    "        \n",
    "    puddles = np.stack(puddles)\n",
    "    p_mins = puddles.min(axis=0)\n",
    "    p_maxs = puddles.max(axis=0)\n",
    "    crop_bbox = [p_mins[0],p_mins[1],p_maxs[2],p_maxs[3]]\n",
    "    crop_img = img[crop_bbox[1]:crop_bbox[3],crop_bbox[0]:crop_bbox[2]]\n",
    "    \n",
    "    cv2.imwrite(\"/home/petrus/Downloads/SpillData/puddle_crops/Puddle/{}.jpeg\".format(ix),crop_img)\n",
    "    \n",
    "    #cv2.imshow('a',img)\n",
    "    #if cv2.waitKey(0) & 0xFF == ord('q'):\n",
    "    #    break\n",
    "\n",
    "#cv2.destroyAllWindows()"
   ]
  },
  {
   "cell_type": "code",
   "execution_count": null,
   "metadata": {},
   "outputs": [],
   "source": []
  },
  {
   "cell_type": "code",
   "execution_count": null,
   "metadata": {},
   "outputs": [],
   "source": []
  },
  {
   "cell_type": "code",
   "execution_count": null,
   "metadata": {},
   "outputs": [],
   "source": []
  }
 ],
 "metadata": {
  "kernelspec": {
   "display_name": "Python 3",
   "language": "python",
   "name": "python3"
  },
  "language_info": {
   "codemirror_mode": {
    "name": "ipython",
    "version": 3
   },
   "file_extension": ".py",
   "mimetype": "text/x-python",
   "name": "python",
   "nbconvert_exporter": "python",
   "pygments_lexer": "ipython3",
   "version": "3.8.10"
  }
 },
 "nbformat": 4,
 "nbformat_minor": 4
}
