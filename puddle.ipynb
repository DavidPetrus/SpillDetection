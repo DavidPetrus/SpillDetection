{
 "cells": [
  {
   "cell_type": "code",
   "execution_count": 3,
   "metadata": {},
   "outputs": [],
   "source": [
    "import numpy as np\n",
    "import cv2\n",
    "import glob\n",
    "import os"
   ]
  },
  {
   "cell_type": "code",
   "execution_count": 6,
   "metadata": {},
   "outputs": [
    {
     "name": "stdout",
     "output_type": "stream",
     "text": [
      "1918\n"
     ]
    }
   ],
   "source": [
    "dataset_dir = \"/home/petrus/SpillDetection/images/train/puddles\"\n",
    "images = glob.glob(dataset_dir+'/*.jpeg')\n",
    "print(len(images))"
   ]
  },
  {
   "cell_type": "code",
   "execution_count": 5,
   "metadata": {},
   "outputs": [],
   "source": [
    "for ix,img_path in enumerate(images):\n",
    "    img = cv2.imread(img_path)\n",
    "    img_h,img_w,_ = img.shape\n",
    "    with open(img_path[:-5]+'.txt','r') as fp:\n",
    "        annots = fp.read().splitlines()\n",
    "    \n",
    "    puddles = []\n",
    "    wet_surface = []\n",
    "    for annot in annots:\n",
    "        cat,xs,ys,ws,hs = annot.split(' ')\n",
    "        x = int(float(xs)*img_w)\n",
    "        y = int(float(ys)*img_h)\n",
    "        w = int(float(ws)*img_w)\n",
    "        h = int(float(hs)*img_w)\n",
    "        \n",
    "        if cat == '0':\n",
    "            puddles.append(np.array([x-w//2, y-h//2, x+w//2, y+h//2]))\n",
    "        \n",
    "    if len(puddles) == 0:\n",
    "        os.remove(img_path)"
   ]
  },
  {
   "cell_type": "code",
   "execution_count": null,
   "metadata": {},
   "outputs": [],
   "source": []
  },
  {
   "cell_type": "code",
   "execution_count": null,
   "metadata": {},
   "outputs": [],
   "source": []
  },
  {
   "cell_type": "code",
   "execution_count": null,
   "metadata": {},
   "outputs": [],
   "source": []
  }
 ],
 "metadata": {
  "kernelspec": {
   "display_name": "Python 3",
   "language": "python",
   "name": "python3"
  },
  "language_info": {
   "codemirror_mode": {
    "name": "ipython",
    "version": 3
   },
   "file_extension": ".py",
   "mimetype": "text/x-python",
   "name": "python",
   "nbconvert_exporter": "python",
   "pygments_lexer": "ipython3",
   "version": "3.8.10"
  }
 },
 "nbformat": 4,
 "nbformat_minor": 4
}
